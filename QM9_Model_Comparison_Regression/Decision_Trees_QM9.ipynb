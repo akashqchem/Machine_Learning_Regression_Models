{
  "nbformat": 4,
  "nbformat_minor": 0,
  "metadata": {
    "colab": {
      "provenance": [],
      "authorship_tag": "ABX9TyP1ijaLVgu3MMttsryfYF+c",
      "include_colab_link": true
    },
    "kernelspec": {
      "name": "python3",
      "display_name": "Python 3"
    },
    "language_info": {
      "name": "python"
    }
  },
  "cells": [
    {
      "cell_type": "markdown",
      "metadata": {
        "id": "view-in-github",
        "colab_type": "text"
      },
      "source": [
        "<a href=\"https://colab.research.google.com/github/akashqchem/Machine_Learning_Regression_Models/blob/main/QM9_Model_Comparison_Regression/Decision_Trees_QM9.ipynb\" target=\"_parent\"><img src=\"https://colab.research.google.com/assets/colab-badge.svg\" alt=\"Open In Colab\"/></a>"
      ]
    },
    {
      "cell_type": "markdown",
      "source": [
        "#Importing all the necessary libraries"
      ],
      "metadata": {
        "id": "BvI9-w4nxG1A"
      }
    },
    {
      "cell_type": "code",
      "execution_count": null,
      "metadata": {
        "id": "U78Y0yjqmcaA"
      },
      "outputs": [],
      "source": [
        "import numpy as np\n",
        "import pandas as pd"
      ]
    },
    {
      "cell_type": "markdown",
      "source": [
        "#Importing our dataset \"QM9_HOMO_LUMO_Gap.csv\""
      ],
      "metadata": {
        "id": "8PLrN0rcxLpe"
      }
    },
    {
      "cell_type": "code",
      "source": [
        "dataset = pd.read_csv(\"QM9_HOMO_LUMO_Gap.csv\")\n",
        "x = dataset.iloc[:, :-1].values\n",
        "y = dataset.iloc[:, -1].values\n",
        "missing_data = dataset.isnull().sum()"
      ],
      "metadata": {
        "id": "hrPToLLRmlr_"
      },
      "execution_count": null,
      "outputs": []
    },
    {
      "cell_type": "markdown",
      "source": [
        "##Printing all the matrix of features(x)"
      ],
      "metadata": {
        "id": "eZSpshsXxSst"
      }
    },
    {
      "cell_type": "code",
      "source": [
        "print (x)"
      ],
      "metadata": {
        "colab": {
          "base_uri": "https://localhost:8080/"
        },
        "id": "-5gWN0i6m0Y-",
        "outputId": "76a3fdb4-92b1-4655-e9eb-f172fcc18890"
      },
      "execution_count": null,
      "outputs": [
        {
          "output_type": "stream",
          "name": "stdout",
          "text": [
            "[[ 1.577e+02  1.577e+02  1.577e+02 ... -3.986e+02 -4.010e+02 -3.725e+02]\n",
            " [ 2.936e+02  2.935e+02  1.914e+02 ... -2.786e+02 -2.804e+02 -2.593e+02]\n",
            " [ 7.996e+02  4.379e+02  2.829e+02 ... -2.140e+02 -2.152e+02 -2.014e+02]\n",
            " ...\n",
            " [ 3.387e+00  2.360e+00  1.403e+00 ... -1.399e+03 -1.406e+03 -1.304e+03]\n",
            " [ 3.310e+00  2.383e+00  1.397e+00 ... -1.465e+03 -1.473e+03 -1.363e+03]\n",
            " [ 3.299e+00  2.423e+00  1.409e+00 ... -1.440e+03 -1.448e+03 -1.338e+03]]\n"
          ]
        }
      ]
    },
    {
      "cell_type": "markdown",
      "source": [
        "##Printing all the target variables(y)"
      ],
      "metadata": {
        "id": "k01-hHD9ymPA"
      }
    },
    {
      "cell_type": "code",
      "source": [
        "print (y)"
      ],
      "metadata": {
        "colab": {
          "base_uri": "https://localhost:8080/"
        },
        "id": "zux4BbXFm1q9",
        "outputId": "aab703b1-d130-4450-ba38-8fadfb8a3540"
      },
      "execution_count": null,
      "outputs": [
        {
          "output_type": "stream",
          "name": "stdout",
          "text": [
            "[0.505 0.34  0.361 ... 0.194 0.174 0.167]\n"
          ]
        }
      ]
    },
    {
      "cell_type": "markdown",
      "source": [
        "##Printing if there are any missing_data"
      ],
      "metadata": {
        "id": "mudIOw-1yuOC"
      }
    },
    {
      "cell_type": "code",
      "source": [
        "print (missing_data)"
      ],
      "metadata": {
        "colab": {
          "base_uri": "https://localhost:8080/"
        },
        "id": "qOtWUu_Ym6We",
        "outputId": "f2f4eff3-cc2d-4ad0-ad35-c8da3e86419a"
      },
      "execution_count": null,
      "outputs": [
        {
          "output_type": "stream",
          "name": "stdout",
          "text": [
            "A            0\n",
            "B            0\n",
            "C            0\n",
            "mu           0\n",
            "alpha        0\n",
            "homo         0\n",
            "lumo         0\n",
            "r2           0\n",
            "zpve         0\n",
            "u0           0\n",
            "u298         0\n",
            "h298         0\n",
            "g298         0\n",
            "cv           0\n",
            "u0_atom      0\n",
            "u298_atom    0\n",
            "h298_atom    0\n",
            "g298_atom    0\n",
            "gap          0\n",
            "dtype: int64\n"
          ]
        }
      ]
    },
    {
      "cell_type": "markdown",
      "source": [
        "#Splitting the entire dataset into training & test sets"
      ],
      "metadata": {
        "id": "nd3MyXLry3eR"
      }
    },
    {
      "cell_type": "code",
      "source": [
        "from sklearn.model_selection import train_test_split\n",
        "x_train, x_test, y_train, y_test = train_test_split (x, y, test_size = 0.2, random_state = 1)"
      ],
      "metadata": {
        "id": "VlE_jQ3Jm87m"
      },
      "execution_count": null,
      "outputs": []
    },
    {
      "cell_type": "code",
      "source": [
        "print (x_train)\n",
        "print (y_train)\n",
        "print (x_test)\n",
        "print (y_test)"
      ],
      "metadata": {
        "colab": {
          "base_uri": "https://localhost:8080/"
        },
        "id": "LewoIO4FnOhm",
        "outputId": "02393208-0d6f-4d3b-9679-1ad27651ceec"
      },
      "execution_count": null,
      "outputs": [
        {
          "output_type": "stream",
          "name": "stdout",
          "text": [
            "[[ 7.716e+00  1.100e+00  1.001e+00 ... -1.435e+03 -1.443e+03 -1.336e+03]\n",
            " [ 7.500e+00  1.929e+00  1.568e+00 ... -1.287e+03 -1.294e+03 -1.194e+03]\n",
            " [ 3.878e+00  1.673e+00  1.258e+00 ... -1.880e+03 -1.892e+03 -1.731e+03]\n",
            " ...\n",
            " [ 5.988e+00  2.836e+00  1.925e+00 ... -1.161e+03 -1.167e+03 -1.081e+03]\n",
            " [ 6.496e+00  7.955e-01  7.118e-01 ... -1.316e+03 -1.323e+03 -1.225e+03]\n",
            " [ 9.680e+00  2.172e+00  1.814e+00 ... -1.127e+03 -1.133e+03 -1.053e+03]]\n",
            "[0.247 0.245 0.34  ... 0.21  0.171 0.237]\n",
            "[[ 3.722e+00  2.263e+00  1.610e+00 ... -1.625e+03 -1.634e+03 -1.503e+03]\n",
            " [ 4.604e+00  1.409e+00  1.100e+00 ... -1.571e+03 -1.580e+03 -1.455e+03]\n",
            " [ 1.027e+01  2.029e+00  1.694e+00 ... -8.923e+02 -8.964e+02 -8.349e+02]\n",
            " ...\n",
            " [ 1.999e+00  1.804e+00  9.539e-01 ... -1.477e+03 -1.485e+03 -1.366e+03]\n",
            " [ 6.606e+00  1.260e+00  1.118e+00 ... -1.515e+03 -1.524e+03 -1.402e+03]\n",
            " [ 4.801e+00  2.648e+00  2.159e+00 ... -1.501e+03 -1.510e+03 -1.385e+03]]\n",
            "[0.223 0.242 0.212 0.258 0.213 0.188 0.31  0.297 0.197 0.254 0.215 0.226\n",
            " 0.326 0.253 0.234 0.25  0.34  0.177 0.223 0.226 0.386 0.235 0.239 0.226\n",
            " 0.28  0.327 0.198 0.216 0.219 0.331 0.279 0.319 0.255 0.296 0.238 0.26\n",
            " 0.221 0.337 0.314 0.315 0.235 0.222 0.236 0.27  0.238 0.182 0.237 0.325\n",
            " 0.203 0.268 0.259 0.328 0.254 0.22  0.299 0.222 0.195 0.243 0.298 0.223\n",
            " 0.274 0.254 0.254 0.28  0.228 0.228 0.321 0.286 0.196 0.334 0.252 0.242\n",
            " 0.285 0.338 0.226 0.215 0.267 0.32  0.342 0.175 0.231 0.264 0.214 0.241\n",
            " 0.227 0.252 0.194 0.201 0.337 0.266 0.3   0.22  0.274 0.196 0.248 0.115\n",
            " 0.223 0.178 0.396 0.217 0.262 0.161 0.197 0.316 0.24  0.219 0.313 0.262\n",
            " 0.213 0.318 0.233 0.217 0.218 0.214 0.233 0.338 0.203 0.359 0.283 0.258\n",
            " 0.222 0.334 0.33  0.235 0.292 0.288 0.254 0.244 0.339 0.289 0.27  0.219\n",
            " 0.317 0.256 0.331 0.234 0.134 0.239 0.273 0.166 0.246 0.293 0.188 0.204\n",
            " 0.342 0.284 0.248 0.194 0.272 0.325 0.228 0.263 0.339 0.326 0.289 0.262\n",
            " 0.264 0.24  0.25  0.311 0.254 0.219 0.309 0.278 0.289 0.25  0.258 0.31\n",
            " 0.279 0.265 0.242 0.292 0.303 0.242 0.304 0.279 0.304 0.309 0.291 0.154\n",
            " 0.274 0.298 0.291 0.219 0.205 0.186 0.262 0.342 0.384 0.355 0.343 0.181\n",
            " 0.321 0.24  0.336 0.228 0.279 0.229 0.275 0.197 0.216 0.214 0.307 0.309\n",
            " 0.329 0.21  0.197 0.25  0.233 0.287 0.237 0.268 0.22  0.298 0.218 0.294\n",
            " 0.19  0.245 0.22  0.343 0.186 0.276 0.176 0.264 0.252 0.284 0.238 0.181\n",
            " 0.233 0.268 0.272 0.243 0.17  0.277 0.249 0.166 0.219 0.26  0.201 0.235\n",
            " 0.223 0.236 0.224 0.289 0.266 0.159 0.217 0.233 0.207 0.318 0.303 0.273\n",
            " 0.25  0.315 0.251 0.262 0.202 0.267 0.239 0.316 0.238 0.247 0.223 0.27\n",
            " 0.323 0.185 0.322 0.29  0.219 0.228 0.336 0.237 0.23  0.22  0.321 0.232\n",
            " 0.225 0.324 0.279 0.234 0.212 0.187 0.181 0.183 0.182 0.319 0.231 0.225\n",
            " 0.238 0.223 0.209 0.247 0.274 0.266 0.277 0.272 0.289 0.312 0.228 0.231\n",
            " 0.227 0.248 0.282 0.156 0.236 0.224 0.233 0.222 0.333 0.205 0.337 0.245\n",
            " 0.276 0.231 0.241 0.344 0.227 0.272 0.373 0.229 0.251 0.278 0.337 0.222\n",
            " 0.199 0.282 0.167 0.25  0.218 0.23  0.317 0.231 0.323 0.354 0.224 0.234\n",
            " 0.166 0.256 0.224 0.28  0.213 0.231 0.271 0.296 0.269 0.215 0.27  0.218\n",
            " 0.287 0.317 0.329 0.228 0.272 0.254 0.418 0.253 0.175 0.231 0.166 0.318\n",
            " 0.32  0.243 0.239 0.341 0.249 0.217 0.302 0.272 0.312 0.245 0.316 0.316\n",
            " 0.289 0.301 0.206 0.316 0.219 0.317 0.323 0.225 0.188 0.176 0.324 0.219\n",
            " 0.195 0.228 0.226 0.286 0.326 0.314 0.247 0.226 0.332 0.325 0.28  0.287\n",
            " 0.263 0.233 0.235 0.326 0.269 0.314 0.331 0.334 0.232 0.224 0.223 0.247\n",
            " 0.201 0.24  0.218 0.22  0.255 0.294 0.317 0.18  0.24  0.258 0.171 0.179\n",
            " 0.331 0.315 0.33  0.262 0.175 0.253 0.266 0.159 0.283 0.318 0.199 0.244\n",
            " 0.209 0.216 0.264 0.321 0.194 0.319 0.248 0.24  0.256 0.227 0.221 0.286\n",
            " 0.175 0.283 0.313 0.235 0.334 0.231 0.271 0.208 0.256 0.341 0.222 0.322\n",
            " 0.191 0.22  0.338 0.159 0.335 0.218 0.262 0.29  0.196 0.194 0.313 0.351\n",
            " 0.198 0.284 0.24  0.229 0.196 0.278 0.248 0.254 0.218 0.261 0.195 0.243\n",
            " 0.203 0.318 0.307 0.306 0.315 0.241 0.194 0.266 0.305 0.223 0.165 0.307\n",
            " 0.255 0.263 0.251 0.303 0.213 0.271 0.182 0.318 0.261 0.207 0.334 0.226\n",
            " 0.272 0.276 0.27  0.327 0.206 0.217 0.182 0.279 0.23  0.198 0.208 0.293\n",
            " 0.21  0.216 0.263 0.271 0.217 0.147 0.236 0.196 0.262 0.288 0.253 0.345\n",
            " 0.382 0.289 0.249 0.329 0.228 0.245 0.214 0.222 0.303 0.256 0.272 0.222\n",
            " 0.352 0.258 0.292 0.369 0.332 0.25  0.208 0.302 0.299 0.248 0.252 0.223\n",
            " 0.244 0.333 0.324 0.301 0.285 0.224 0.218 0.253 0.221 0.338 0.351 0.166\n",
            " 0.282 0.194 0.314 0.26  0.334 0.272 0.256 0.283 0.278 0.255 0.193 0.337\n",
            " 0.247 0.301 0.224 0.254 0.227 0.326 0.226 0.24  0.23  0.248 0.327 0.22\n",
            " 0.216 0.187 0.234 0.333 0.194 0.224 0.218 0.143 0.243 0.306 0.296 0.317\n",
            " 0.327 0.304 0.237 0.239 0.278 0.356 0.341 0.321 0.324 0.32  0.27  0.208\n",
            " 0.307 0.233 0.343 0.384 0.384 0.343 0.244 0.292 0.241 0.277 0.241 0.266\n",
            " 0.209 0.234 0.245 0.217 0.287 0.393 0.19  0.253 0.283 0.342 0.204 0.336\n",
            " 0.232 0.236 0.19  0.249 0.226 0.261 0.342 0.366 0.334 0.228 0.235 0.266\n",
            " 0.301 0.221 0.32  0.235 0.283 0.258 0.241 0.352 0.236 0.253 0.33  0.235\n",
            " 0.246 0.349 0.221 0.255 0.3   0.242 0.202 0.202 0.245 0.318 0.243 0.274\n",
            " 0.214 0.232 0.239 0.206 0.246 0.279 0.276 0.286 0.235 0.339 0.227 0.265\n",
            " 0.273 0.301 0.248 0.3   0.207 0.189 0.342 0.304 0.313 0.299 0.187 0.235\n",
            " 0.205 0.179 0.25  0.273 0.239 0.39  0.317 0.22  0.175 0.252 0.225 0.255\n",
            " 0.291 0.357 0.24  0.239 0.226 0.23  0.319 0.286 0.343 0.208 0.232 0.357\n",
            " 0.291 0.259 0.331 0.217 0.206 0.245 0.334 0.285 0.255 0.192 0.225 0.219\n",
            " 0.336 0.224 0.242 0.331 0.337 0.314 0.243 0.283 0.234 0.23  0.256 0.295\n",
            " 0.326 0.303 0.225 0.263 0.256 0.364 0.224 0.312 0.282 0.215 0.236 0.204\n",
            " 0.276 0.191 0.223 0.29  0.303 0.261 0.204 0.323 0.191 0.283 0.242 0.193\n",
            " 0.332 0.275 0.346 0.336 0.17  0.266 0.321 0.297 0.276 0.214 0.251 0.231\n",
            " 0.287 0.181 0.277 0.295 0.279 0.27  0.225 0.252 0.218 0.312 0.225 0.238\n",
            " 0.28  0.199 0.198 0.242 0.301 0.226 0.187 0.341 0.313 0.248 0.21  0.234\n",
            " 0.175 0.334 0.162 0.224 0.285 0.277 0.19  0.217 0.193 0.209 0.309 0.323\n",
            " 0.225 0.288 0.211 0.216 0.249 0.278 0.337 0.314 0.302 0.36  0.179 0.316\n",
            " 0.204 0.276 0.152 0.235 0.186 0.297 0.232 0.279 0.263 0.214 0.224 0.216\n",
            " 0.321 0.222 0.334 0.266 0.221 0.306 0.237 0.23  0.231 0.235 0.222 0.203\n",
            " 0.289 0.225 0.343 0.158 0.188 0.192 0.316 0.341 0.312 0.287 0.214 0.241\n",
            " 0.249 0.28  0.314 0.255 0.2   0.27  0.285 0.228 0.276 0.229 0.319 0.2\n",
            " 0.284 0.31  0.348 0.198 0.2   0.213 0.191 0.321 0.239 0.17  0.327 0.311\n",
            " 0.2   0.308 0.266 0.296 0.219 0.312 0.229 0.267 0.295 0.289 0.297 0.258\n",
            " 0.248 0.325 0.29  0.235 0.261 0.342 0.277 0.206 0.249 0.243 0.263 0.213\n",
            " 0.294 0.273 0.302 0.324 0.221 0.215 0.165 0.317 0.314 0.255 0.336 0.262\n",
            " 0.268 0.159 0.277 0.299 0.241 0.316 0.241 0.221 0.261 0.279 0.245 0.171\n",
            " 0.237 0.18  0.31  0.23  0.305 0.191 0.336 0.322 0.309 0.336 0.267 0.256\n",
            " 0.253 0.154 0.299 0.34  0.175 0.33  0.18  0.223 0.164 0.172 0.261 0.242\n",
            " 0.312 0.184 0.196 0.311 0.274 0.193 0.231 0.323 0.32  0.156 0.208 0.249\n",
            " 0.277 0.334 0.296 0.326 0.217 0.233 0.318 0.273 0.303 0.335 0.326 0.192\n",
            " 0.262 0.266 0.288 0.251 0.379 0.235 0.239 0.242 0.308 0.21  0.35  0.275\n",
            " 0.171 0.17  0.292 0.337]\n"
          ]
        }
      ]
    },
    {
      "cell_type": "markdown",
      "source": [
        "#Building & training our Decision Tree Regression model"
      ],
      "metadata": {
        "id": "Y54F0Vbvy-K5"
      }
    },
    {
      "cell_type": "code",
      "source": [
        "from sklearn.tree import DecisionTreeRegressor\n",
        "regressor = DecisionTreeRegressor (random_state = 1)\n",
        "regressor.fit(x_train, y_train)"
      ],
      "metadata": {
        "colab": {
          "base_uri": "https://localhost:8080/",
          "height": 80
        },
        "id": "1JqOPz3dnV7v",
        "outputId": "9feb32d6-7415-460b-ec1e-5c1bdcd7f976"
      },
      "execution_count": null,
      "outputs": [
        {
          "output_type": "execute_result",
          "data": {
            "text/plain": [
              "DecisionTreeRegressor(random_state=1)"
            ],
            "text/html": [
              "<style>#sk-container-id-5 {\n",
              "  /* Definition of color scheme common for light and dark mode */\n",
              "  --sklearn-color-text: #000;\n",
              "  --sklearn-color-text-muted: #666;\n",
              "  --sklearn-color-line: gray;\n",
              "  /* Definition of color scheme for unfitted estimators */\n",
              "  --sklearn-color-unfitted-level-0: #fff5e6;\n",
              "  --sklearn-color-unfitted-level-1: #f6e4d2;\n",
              "  --sklearn-color-unfitted-level-2: #ffe0b3;\n",
              "  --sklearn-color-unfitted-level-3: chocolate;\n",
              "  /* Definition of color scheme for fitted estimators */\n",
              "  --sklearn-color-fitted-level-0: #f0f8ff;\n",
              "  --sklearn-color-fitted-level-1: #d4ebff;\n",
              "  --sklearn-color-fitted-level-2: #b3dbfd;\n",
              "  --sklearn-color-fitted-level-3: cornflowerblue;\n",
              "\n",
              "  /* Specific color for light theme */\n",
              "  --sklearn-color-text-on-default-background: var(--sg-text-color, var(--theme-code-foreground, var(--jp-content-font-color1, black)));\n",
              "  --sklearn-color-background: var(--sg-background-color, var(--theme-background, var(--jp-layout-color0, white)));\n",
              "  --sklearn-color-border-box: var(--sg-text-color, var(--theme-code-foreground, var(--jp-content-font-color1, black)));\n",
              "  --sklearn-color-icon: #696969;\n",
              "\n",
              "  @media (prefers-color-scheme: dark) {\n",
              "    /* Redefinition of color scheme for dark theme */\n",
              "    --sklearn-color-text-on-default-background: var(--sg-text-color, var(--theme-code-foreground, var(--jp-content-font-color1, white)));\n",
              "    --sklearn-color-background: var(--sg-background-color, var(--theme-background, var(--jp-layout-color0, #111)));\n",
              "    --sklearn-color-border-box: var(--sg-text-color, var(--theme-code-foreground, var(--jp-content-font-color1, white)));\n",
              "    --sklearn-color-icon: #878787;\n",
              "  }\n",
              "}\n",
              "\n",
              "#sk-container-id-5 {\n",
              "  color: var(--sklearn-color-text);\n",
              "}\n",
              "\n",
              "#sk-container-id-5 pre {\n",
              "  padding: 0;\n",
              "}\n",
              "\n",
              "#sk-container-id-5 input.sk-hidden--visually {\n",
              "  border: 0;\n",
              "  clip: rect(1px 1px 1px 1px);\n",
              "  clip: rect(1px, 1px, 1px, 1px);\n",
              "  height: 1px;\n",
              "  margin: -1px;\n",
              "  overflow: hidden;\n",
              "  padding: 0;\n",
              "  position: absolute;\n",
              "  width: 1px;\n",
              "}\n",
              "\n",
              "#sk-container-id-5 div.sk-dashed-wrapped {\n",
              "  border: 1px dashed var(--sklearn-color-line);\n",
              "  margin: 0 0.4em 0.5em 0.4em;\n",
              "  box-sizing: border-box;\n",
              "  padding-bottom: 0.4em;\n",
              "  background-color: var(--sklearn-color-background);\n",
              "}\n",
              "\n",
              "#sk-container-id-5 div.sk-container {\n",
              "  /* jupyter's `normalize.less` sets `[hidden] { display: none; }`\n",
              "     but bootstrap.min.css set `[hidden] { display: none !important; }`\n",
              "     so we also need the `!important` here to be able to override the\n",
              "     default hidden behavior on the sphinx rendered scikit-learn.org.\n",
              "     See: https://github.com/scikit-learn/scikit-learn/issues/21755 */\n",
              "  display: inline-block !important;\n",
              "  position: relative;\n",
              "}\n",
              "\n",
              "#sk-container-id-5 div.sk-text-repr-fallback {\n",
              "  display: none;\n",
              "}\n",
              "\n",
              "div.sk-parallel-item,\n",
              "div.sk-serial,\n",
              "div.sk-item {\n",
              "  /* draw centered vertical line to link estimators */\n",
              "  background-image: linear-gradient(var(--sklearn-color-text-on-default-background), var(--sklearn-color-text-on-default-background));\n",
              "  background-size: 2px 100%;\n",
              "  background-repeat: no-repeat;\n",
              "  background-position: center center;\n",
              "}\n",
              "\n",
              "/* Parallel-specific style estimator block */\n",
              "\n",
              "#sk-container-id-5 div.sk-parallel-item::after {\n",
              "  content: \"\";\n",
              "  width: 100%;\n",
              "  border-bottom: 2px solid var(--sklearn-color-text-on-default-background);\n",
              "  flex-grow: 1;\n",
              "}\n",
              "\n",
              "#sk-container-id-5 div.sk-parallel {\n",
              "  display: flex;\n",
              "  align-items: stretch;\n",
              "  justify-content: center;\n",
              "  background-color: var(--sklearn-color-background);\n",
              "  position: relative;\n",
              "}\n",
              "\n",
              "#sk-container-id-5 div.sk-parallel-item {\n",
              "  display: flex;\n",
              "  flex-direction: column;\n",
              "}\n",
              "\n",
              "#sk-container-id-5 div.sk-parallel-item:first-child::after {\n",
              "  align-self: flex-end;\n",
              "  width: 50%;\n",
              "}\n",
              "\n",
              "#sk-container-id-5 div.sk-parallel-item:last-child::after {\n",
              "  align-self: flex-start;\n",
              "  width: 50%;\n",
              "}\n",
              "\n",
              "#sk-container-id-5 div.sk-parallel-item:only-child::after {\n",
              "  width: 0;\n",
              "}\n",
              "\n",
              "/* Serial-specific style estimator block */\n",
              "\n",
              "#sk-container-id-5 div.sk-serial {\n",
              "  display: flex;\n",
              "  flex-direction: column;\n",
              "  align-items: center;\n",
              "  background-color: var(--sklearn-color-background);\n",
              "  padding-right: 1em;\n",
              "  padding-left: 1em;\n",
              "}\n",
              "\n",
              "\n",
              "/* Toggleable style: style used for estimator/Pipeline/ColumnTransformer box that is\n",
              "clickable and can be expanded/collapsed.\n",
              "- Pipeline and ColumnTransformer use this feature and define the default style\n",
              "- Estimators will overwrite some part of the style using the `sk-estimator` class\n",
              "*/\n",
              "\n",
              "/* Pipeline and ColumnTransformer style (default) */\n",
              "\n",
              "#sk-container-id-5 div.sk-toggleable {\n",
              "  /* Default theme specific background. It is overwritten whether we have a\n",
              "  specific estimator or a Pipeline/ColumnTransformer */\n",
              "  background-color: var(--sklearn-color-background);\n",
              "}\n",
              "\n",
              "/* Toggleable label */\n",
              "#sk-container-id-5 label.sk-toggleable__label {\n",
              "  cursor: pointer;\n",
              "  display: flex;\n",
              "  width: 100%;\n",
              "  margin-bottom: 0;\n",
              "  padding: 0.5em;\n",
              "  box-sizing: border-box;\n",
              "  text-align: center;\n",
              "  align-items: start;\n",
              "  justify-content: space-between;\n",
              "  gap: 0.5em;\n",
              "}\n",
              "\n",
              "#sk-container-id-5 label.sk-toggleable__label .caption {\n",
              "  font-size: 0.6rem;\n",
              "  font-weight: lighter;\n",
              "  color: var(--sklearn-color-text-muted);\n",
              "}\n",
              "\n",
              "#sk-container-id-5 label.sk-toggleable__label-arrow:before {\n",
              "  /* Arrow on the left of the label */\n",
              "  content: \"▸\";\n",
              "  float: left;\n",
              "  margin-right: 0.25em;\n",
              "  color: var(--sklearn-color-icon);\n",
              "}\n",
              "\n",
              "#sk-container-id-5 label.sk-toggleable__label-arrow:hover:before {\n",
              "  color: var(--sklearn-color-text);\n",
              "}\n",
              "\n",
              "/* Toggleable content - dropdown */\n",
              "\n",
              "#sk-container-id-5 div.sk-toggleable__content {\n",
              "  max-height: 0;\n",
              "  max-width: 0;\n",
              "  overflow: hidden;\n",
              "  text-align: left;\n",
              "  /* unfitted */\n",
              "  background-color: var(--sklearn-color-unfitted-level-0);\n",
              "}\n",
              "\n",
              "#sk-container-id-5 div.sk-toggleable__content.fitted {\n",
              "  /* fitted */\n",
              "  background-color: var(--sklearn-color-fitted-level-0);\n",
              "}\n",
              "\n",
              "#sk-container-id-5 div.sk-toggleable__content pre {\n",
              "  margin: 0.2em;\n",
              "  border-radius: 0.25em;\n",
              "  color: var(--sklearn-color-text);\n",
              "  /* unfitted */\n",
              "  background-color: var(--sklearn-color-unfitted-level-0);\n",
              "}\n",
              "\n",
              "#sk-container-id-5 div.sk-toggleable__content.fitted pre {\n",
              "  /* unfitted */\n",
              "  background-color: var(--sklearn-color-fitted-level-0);\n",
              "}\n",
              "\n",
              "#sk-container-id-5 input.sk-toggleable__control:checked~div.sk-toggleable__content {\n",
              "  /* Expand drop-down */\n",
              "  max-height: 200px;\n",
              "  max-width: 100%;\n",
              "  overflow: auto;\n",
              "}\n",
              "\n",
              "#sk-container-id-5 input.sk-toggleable__control:checked~label.sk-toggleable__label-arrow:before {\n",
              "  content: \"▾\";\n",
              "}\n",
              "\n",
              "/* Pipeline/ColumnTransformer-specific style */\n",
              "\n",
              "#sk-container-id-5 div.sk-label input.sk-toggleable__control:checked~label.sk-toggleable__label {\n",
              "  color: var(--sklearn-color-text);\n",
              "  background-color: var(--sklearn-color-unfitted-level-2);\n",
              "}\n",
              "\n",
              "#sk-container-id-5 div.sk-label.fitted input.sk-toggleable__control:checked~label.sk-toggleable__label {\n",
              "  background-color: var(--sklearn-color-fitted-level-2);\n",
              "}\n",
              "\n",
              "/* Estimator-specific style */\n",
              "\n",
              "/* Colorize estimator box */\n",
              "#sk-container-id-5 div.sk-estimator input.sk-toggleable__control:checked~label.sk-toggleable__label {\n",
              "  /* unfitted */\n",
              "  background-color: var(--sklearn-color-unfitted-level-2);\n",
              "}\n",
              "\n",
              "#sk-container-id-5 div.sk-estimator.fitted input.sk-toggleable__control:checked~label.sk-toggleable__label {\n",
              "  /* fitted */\n",
              "  background-color: var(--sklearn-color-fitted-level-2);\n",
              "}\n",
              "\n",
              "#sk-container-id-5 div.sk-label label.sk-toggleable__label,\n",
              "#sk-container-id-5 div.sk-label label {\n",
              "  /* The background is the default theme color */\n",
              "  color: var(--sklearn-color-text-on-default-background);\n",
              "}\n",
              "\n",
              "/* On hover, darken the color of the background */\n",
              "#sk-container-id-5 div.sk-label:hover label.sk-toggleable__label {\n",
              "  color: var(--sklearn-color-text);\n",
              "  background-color: var(--sklearn-color-unfitted-level-2);\n",
              "}\n",
              "\n",
              "/* Label box, darken color on hover, fitted */\n",
              "#sk-container-id-5 div.sk-label.fitted:hover label.sk-toggleable__label.fitted {\n",
              "  color: var(--sklearn-color-text);\n",
              "  background-color: var(--sklearn-color-fitted-level-2);\n",
              "}\n",
              "\n",
              "/* Estimator label */\n",
              "\n",
              "#sk-container-id-5 div.sk-label label {\n",
              "  font-family: monospace;\n",
              "  font-weight: bold;\n",
              "  display: inline-block;\n",
              "  line-height: 1.2em;\n",
              "}\n",
              "\n",
              "#sk-container-id-5 div.sk-label-container {\n",
              "  text-align: center;\n",
              "}\n",
              "\n",
              "/* Estimator-specific */\n",
              "#sk-container-id-5 div.sk-estimator {\n",
              "  font-family: monospace;\n",
              "  border: 1px dotted var(--sklearn-color-border-box);\n",
              "  border-radius: 0.25em;\n",
              "  box-sizing: border-box;\n",
              "  margin-bottom: 0.5em;\n",
              "  /* unfitted */\n",
              "  background-color: var(--sklearn-color-unfitted-level-0);\n",
              "}\n",
              "\n",
              "#sk-container-id-5 div.sk-estimator.fitted {\n",
              "  /* fitted */\n",
              "  background-color: var(--sklearn-color-fitted-level-0);\n",
              "}\n",
              "\n",
              "/* on hover */\n",
              "#sk-container-id-5 div.sk-estimator:hover {\n",
              "  /* unfitted */\n",
              "  background-color: var(--sklearn-color-unfitted-level-2);\n",
              "}\n",
              "\n",
              "#sk-container-id-5 div.sk-estimator.fitted:hover {\n",
              "  /* fitted */\n",
              "  background-color: var(--sklearn-color-fitted-level-2);\n",
              "}\n",
              "\n",
              "/* Specification for estimator info (e.g. \"i\" and \"?\") */\n",
              "\n",
              "/* Common style for \"i\" and \"?\" */\n",
              "\n",
              ".sk-estimator-doc-link,\n",
              "a:link.sk-estimator-doc-link,\n",
              "a:visited.sk-estimator-doc-link {\n",
              "  float: right;\n",
              "  font-size: smaller;\n",
              "  line-height: 1em;\n",
              "  font-family: monospace;\n",
              "  background-color: var(--sklearn-color-background);\n",
              "  border-radius: 1em;\n",
              "  height: 1em;\n",
              "  width: 1em;\n",
              "  text-decoration: none !important;\n",
              "  margin-left: 0.5em;\n",
              "  text-align: center;\n",
              "  /* unfitted */\n",
              "  border: var(--sklearn-color-unfitted-level-1) 1pt solid;\n",
              "  color: var(--sklearn-color-unfitted-level-1);\n",
              "}\n",
              "\n",
              ".sk-estimator-doc-link.fitted,\n",
              "a:link.sk-estimator-doc-link.fitted,\n",
              "a:visited.sk-estimator-doc-link.fitted {\n",
              "  /* fitted */\n",
              "  border: var(--sklearn-color-fitted-level-1) 1pt solid;\n",
              "  color: var(--sklearn-color-fitted-level-1);\n",
              "}\n",
              "\n",
              "/* On hover */\n",
              "div.sk-estimator:hover .sk-estimator-doc-link:hover,\n",
              ".sk-estimator-doc-link:hover,\n",
              "div.sk-label-container:hover .sk-estimator-doc-link:hover,\n",
              ".sk-estimator-doc-link:hover {\n",
              "  /* unfitted */\n",
              "  background-color: var(--sklearn-color-unfitted-level-3);\n",
              "  color: var(--sklearn-color-background);\n",
              "  text-decoration: none;\n",
              "}\n",
              "\n",
              "div.sk-estimator.fitted:hover .sk-estimator-doc-link.fitted:hover,\n",
              ".sk-estimator-doc-link.fitted:hover,\n",
              "div.sk-label-container:hover .sk-estimator-doc-link.fitted:hover,\n",
              ".sk-estimator-doc-link.fitted:hover {\n",
              "  /* fitted */\n",
              "  background-color: var(--sklearn-color-fitted-level-3);\n",
              "  color: var(--sklearn-color-background);\n",
              "  text-decoration: none;\n",
              "}\n",
              "\n",
              "/* Span, style for the box shown on hovering the info icon */\n",
              ".sk-estimator-doc-link span {\n",
              "  display: none;\n",
              "  z-index: 9999;\n",
              "  position: relative;\n",
              "  font-weight: normal;\n",
              "  right: .2ex;\n",
              "  padding: .5ex;\n",
              "  margin: .5ex;\n",
              "  width: min-content;\n",
              "  min-width: 20ex;\n",
              "  max-width: 50ex;\n",
              "  color: var(--sklearn-color-text);\n",
              "  box-shadow: 2pt 2pt 4pt #999;\n",
              "  /* unfitted */\n",
              "  background: var(--sklearn-color-unfitted-level-0);\n",
              "  border: .5pt solid var(--sklearn-color-unfitted-level-3);\n",
              "}\n",
              "\n",
              ".sk-estimator-doc-link.fitted span {\n",
              "  /* fitted */\n",
              "  background: var(--sklearn-color-fitted-level-0);\n",
              "  border: var(--sklearn-color-fitted-level-3);\n",
              "}\n",
              "\n",
              ".sk-estimator-doc-link:hover span {\n",
              "  display: block;\n",
              "}\n",
              "\n",
              "/* \"?\"-specific style due to the `<a>` HTML tag */\n",
              "\n",
              "#sk-container-id-5 a.estimator_doc_link {\n",
              "  float: right;\n",
              "  font-size: 1rem;\n",
              "  line-height: 1em;\n",
              "  font-family: monospace;\n",
              "  background-color: var(--sklearn-color-background);\n",
              "  border-radius: 1rem;\n",
              "  height: 1rem;\n",
              "  width: 1rem;\n",
              "  text-decoration: none;\n",
              "  /* unfitted */\n",
              "  color: var(--sklearn-color-unfitted-level-1);\n",
              "  border: var(--sklearn-color-unfitted-level-1) 1pt solid;\n",
              "}\n",
              "\n",
              "#sk-container-id-5 a.estimator_doc_link.fitted {\n",
              "  /* fitted */\n",
              "  border: var(--sklearn-color-fitted-level-1) 1pt solid;\n",
              "  color: var(--sklearn-color-fitted-level-1);\n",
              "}\n",
              "\n",
              "/* On hover */\n",
              "#sk-container-id-5 a.estimator_doc_link:hover {\n",
              "  /* unfitted */\n",
              "  background-color: var(--sklearn-color-unfitted-level-3);\n",
              "  color: var(--sklearn-color-background);\n",
              "  text-decoration: none;\n",
              "}\n",
              "\n",
              "#sk-container-id-5 a.estimator_doc_link.fitted:hover {\n",
              "  /* fitted */\n",
              "  background-color: var(--sklearn-color-fitted-level-3);\n",
              "}\n",
              "</style><div id=\"sk-container-id-5\" class=\"sk-top-container\"><div class=\"sk-text-repr-fallback\"><pre>DecisionTreeRegressor(random_state=1)</pre><b>In a Jupyter environment, please rerun this cell to show the HTML representation or trust the notebook. <br />On GitHub, the HTML representation is unable to render, please try loading this page with nbviewer.org.</b></div><div class=\"sk-container\" hidden><div class=\"sk-item\"><div class=\"sk-estimator fitted sk-toggleable\"><input class=\"sk-toggleable__control sk-hidden--visually\" id=\"sk-estimator-id-5\" type=\"checkbox\" checked><label for=\"sk-estimator-id-5\" class=\"sk-toggleable__label fitted sk-toggleable__label-arrow\"><div><div>DecisionTreeRegressor</div></div><div><a class=\"sk-estimator-doc-link fitted\" rel=\"noreferrer\" target=\"_blank\" href=\"https://scikit-learn.org/1.6/modules/generated/sklearn.tree.DecisionTreeRegressor.html\">?<span>Documentation for DecisionTreeRegressor</span></a><span class=\"sk-estimator-doc-link fitted\">i<span>Fitted</span></span></div></label><div class=\"sk-toggleable__content fitted\"><pre>DecisionTreeRegressor(random_state=1)</pre></div> </div></div></div></div>"
            ]
          },
          "metadata": {},
          "execution_count": 43
        }
      ]
    },
    {
      "cell_type": "markdown",
      "source": [
        "#Predicting a new result & displaying the results of two vectors side by side for better comparison\n"
      ],
      "metadata": {
        "id": "L3bfUfsmzKrD"
      }
    },
    {
      "cell_type": "code",
      "source": [
        "y_pred = regressor.predict(x_test)"
      ],
      "metadata": {
        "id": "095ttXDtnsJe"
      },
      "execution_count": null,
      "outputs": []
    },
    {
      "cell_type": "code",
      "source": [
        "np.set_printoptions (precision = 3)\n",
        "print (np.concatenate((y_pred.reshape(len(y_pred), 1), y_test.reshape(len(y_test), 1)), 1))"
      ],
      "metadata": {
        "colab": {
          "base_uri": "https://localhost:8080/"
        },
        "id": "yMpBhggknw0m",
        "outputId": "f549b8ea-0571-4138-e953-f1a753c248dd"
      },
      "execution_count": null,
      "outputs": [
        {
          "output_type": "stream",
          "name": "stdout",
          "text": [
            "[[0.224 0.223]\n",
            " [0.241 0.242]\n",
            " [0.184 0.212]\n",
            " ...\n",
            " [0.171 0.17 ]\n",
            " [0.297 0.292]\n",
            " [0.338 0.337]]\n"
          ]
        }
      ]
    },
    {
      "cell_type": "markdown",
      "source": [
        "#Evaluating the Model Performance (R² Score)"
      ],
      "metadata": {
        "id": "MWzMkgxJxdul"
      }
    },
    {
      "cell_type": "code",
      "source": [
        "from sklearn.metrics import r2_score\n",
        "print(r2_score(y_test, y_pred))"
      ],
      "metadata": {
        "colab": {
          "base_uri": "https://localhost:8080/"
        },
        "id": "3DquNzmVxgAS",
        "outputId": "6b0085c9-d2dc-4993-a175-20aaefaaf786"
      },
      "execution_count": null,
      "outputs": [
        {
          "output_type": "stream",
          "name": "stdout",
          "text": [
            "0.9902184506682732\n"
          ]
        }
      ]
    }
  ]
}